{
 "cells": [
  {
   "cell_type": "code",
   "execution_count": 1,
   "metadata": {},
   "outputs": [],
   "source": [
    "import pandas as pd\n",
    "import numpy as np\n",
    "import xgboost as xgb\n",
    "from collections import Counter\n",
    "\n",
    "from sklearn.linear_model import LogisticRegression\n",
    "from sklearn.tree import DecisionTreeClassifier\n",
    "from sklearn.ensemble import RandomForestClassifier\n",
    "from sklearn.model_selection import cross_val_score\n",
    "from sklearn.model_selection import learning_curve\n",
    "from sklearn.model_selection import train_test_split\n",
    "from sklearn.metrics import roc_auc_score\n",
    "from sklearn.metrics import confusion_matrix\n",
    "from sklearn.preprocessing import StandardScaler\n",
    "\n",
    "import matplotlib.pyplot as plt"
   ]
  },
  {
   "cell_type": "markdown",
   "metadata": {},
   "source": [
    "Os dados estão divididos em train(8mi de linhas), validation(10% do train) e test(2mi de linhas)."
   ]
  },
  {
   "cell_type": "code",
   "execution_count": 2,
   "metadata": {},
   "outputs": [
    {
     "name": "stdout",
     "output_type": "stream",
     "text": [
      "Wall time: 31.9 s\n"
     ]
    }
   ],
   "source": [
    "%%time\n",
    "\n",
    "dtype = {\n",
    "    'ip':'int32',\n",
    "    'app': 'int16',\n",
    "    'device': 'int16',\n",
    "    'os': 'int16',\n",
    "    'channel': 'int16',\n",
    "    'is_attributed':'int8'\n",
    "}\n",
    "\n",
    "train = pd.read_csv(\"train.csv\", nrows=8000000, parse_dates=['click_time', 'attributed_time'], dtype=dtype)"
   ]
  },
  {
   "cell_type": "code",
   "execution_count": 3,
   "metadata": {},
   "outputs": [],
   "source": [
    "train['ct_day'] = train.click_time.dt.day.astype('uint8')\n",
    "train['ct_weekday'] = train.click_time.dt.weekday.astype('uint8')\n",
    "train['ct_hour'] = train.click_time.dt.hour.astype('uint8')\n",
    "\n",
    "y = train['is_attributed']\n",
    "train.drop(['is_attributed', 'attributed_time', 'click_time'], axis=1, inplace=True)"
   ]
  },
  {
   "cell_type": "code",
   "execution_count": 4,
   "metadata": {},
   "outputs": [
    {
     "data": {
      "text/html": [
       "<div>\n",
       "<style scoped>\n",
       "    .dataframe tbody tr th:only-of-type {\n",
       "        vertical-align: middle;\n",
       "    }\n",
       "\n",
       "    .dataframe tbody tr th {\n",
       "        vertical-align: top;\n",
       "    }\n",
       "\n",
       "    .dataframe thead th {\n",
       "        text-align: right;\n",
       "    }\n",
       "</style>\n",
       "<table border=\"1\" class=\"dataframe\">\n",
       "  <thead>\n",
       "    <tr style=\"text-align: right;\">\n",
       "      <th></th>\n",
       "      <th>ip</th>\n",
       "      <th>app</th>\n",
       "      <th>device</th>\n",
       "      <th>os</th>\n",
       "      <th>channel</th>\n",
       "      <th>ct_day</th>\n",
       "      <th>ct_weekday</th>\n",
       "      <th>ct_hour</th>\n",
       "    </tr>\n",
       "  </thead>\n",
       "  <tbody>\n",
       "    <tr>\n",
       "      <th>0</th>\n",
       "      <td>83230</td>\n",
       "      <td>3</td>\n",
       "      <td>1</td>\n",
       "      <td>13</td>\n",
       "      <td>379</td>\n",
       "      <td>6</td>\n",
       "      <td>0</td>\n",
       "      <td>14</td>\n",
       "    </tr>\n",
       "    <tr>\n",
       "      <th>1</th>\n",
       "      <td>17357</td>\n",
       "      <td>3</td>\n",
       "      <td>1</td>\n",
       "      <td>19</td>\n",
       "      <td>379</td>\n",
       "      <td>6</td>\n",
       "      <td>0</td>\n",
       "      <td>14</td>\n",
       "    </tr>\n",
       "    <tr>\n",
       "      <th>2</th>\n",
       "      <td>35810</td>\n",
       "      <td>3</td>\n",
       "      <td>1</td>\n",
       "      <td>13</td>\n",
       "      <td>379</td>\n",
       "      <td>6</td>\n",
       "      <td>0</td>\n",
       "      <td>14</td>\n",
       "    </tr>\n",
       "    <tr>\n",
       "      <th>3</th>\n",
       "      <td>45745</td>\n",
       "      <td>14</td>\n",
       "      <td>1</td>\n",
       "      <td>13</td>\n",
       "      <td>478</td>\n",
       "      <td>6</td>\n",
       "      <td>0</td>\n",
       "      <td>14</td>\n",
       "    </tr>\n",
       "    <tr>\n",
       "      <th>4</th>\n",
       "      <td>161007</td>\n",
       "      <td>3</td>\n",
       "      <td>1</td>\n",
       "      <td>13</td>\n",
       "      <td>379</td>\n",
       "      <td>6</td>\n",
       "      <td>0</td>\n",
       "      <td>14</td>\n",
       "    </tr>\n",
       "  </tbody>\n",
       "</table>\n",
       "</div>"
      ],
      "text/plain": [
       "       ip  app  device  os  channel  ct_day  ct_weekday  ct_hour\n",
       "0   83230    3       1  13      379       6           0       14\n",
       "1   17357    3       1  19      379       6           0       14\n",
       "2   35810    3       1  13      379       6           0       14\n",
       "3   45745   14       1  13      478       6           0       14\n",
       "4  161007    3       1  13      379       6           0       14"
      ]
     },
     "execution_count": 4,
     "metadata": {},
     "output_type": "execute_result"
    }
   ],
   "source": [
    "train.head()"
   ]
  },
  {
   "cell_type": "code",
   "execution_count": 5,
   "metadata": {},
   "outputs": [],
   "source": [
    "train = StandardScaler().fit_transform(train)"
   ]
  },
  {
   "cell_type": "markdown",
   "metadata": {},
   "source": [
    "Dataset separado com 8 mi de registros e 10% para validação."
   ]
  },
  {
   "cell_type": "code",
   "execution_count": 6,
   "metadata": {},
   "outputs": [],
   "source": [
    "x1, x2, y1, y2 = train_test_split(train, y, test_size=0.1, random_state=99)"
   ]
  },
  {
   "cell_type": "code",
   "execution_count": 7,
   "metadata": {},
   "outputs": [],
   "source": [
    "# removendo train para liberar memoria\n",
    "del train"
   ]
  },
  {
   "cell_type": "markdown",
   "metadata": {},
   "source": [
    "**Importando dados para teste**\n",
    "\n",
    "Pulando 8 mi de linhas e pegando as 2mi próximas"
   ]
  },
  {
   "cell_type": "code",
   "execution_count": 8,
   "metadata": {},
   "outputs": [],
   "source": [
    "x3 = pd.read_csv(\"train.csv\", skiprows=8000000, nrows=2000000, \n",
    "                   names=['ip', 'app', 'device', 'os', 'channel', 'click_time', 'attributed_time','is_attributed'], \n",
    "                   parse_dates=['click_time', 'attributed_time'], dtype=dtype)\n",
    "\n",
    "x3['ct_day'] = x3.click_time.dt.day.astype('uint8')\n",
    "x3['ct_weekday'] = x3.click_time.dt.weekday.astype('uint8')\n",
    "x3['ct_hour'] = x3.click_time.dt.hour.astype('uint8')\n",
    "\n",
    "y3 = x3['is_attributed']\n",
    "x3.drop(['is_attributed', 'attributed_time', 'click_time'], axis=1, inplace=True)\n",
    "\n",
    "x3 = StandardScaler().fit_transform(x3)"
   ]
  },
  {
   "cell_type": "markdown",
   "metadata": {},
   "source": [
    "**Fraude vs falsos positivos**"
   ]
  },
  {
   "cell_type": "markdown",
   "metadata": {},
   "source": [
    "O problema com falsos positivos em problemas de fraude é uma questão a ser analisada com cuidado. Nesse problema, falsos positivos são cliques que foram detectados como falsos, mas que na verdade são verdadeiros.\n",
    "\n",
    "O desafio diz que o dispositivo e o ip do emissor dos cliques falsos são colocados em uma lista negra mas não diz o que acontece em seguida. Suponhamos que ip e dispositivo fossem bloqueados, isso talvez não seria um caso extremo, afinal dexiar de baixar algum aplicativo, na maioria das vezes, não prejudica o cotidiano de uma pessoa. Entretanto pensemos no caso de fraudes bancárias. Se fosse detectada uma tentativa de fraude, realmente bom se ela fosse verdadeira, afinal, ter uma compra recusada pode atrapalhar muito a vida de uma pessoa, pior ainda quando o cartão dessa pessoa é bloqueado automaticamente."
   ]
  },
  {
   "cell_type": "markdown",
   "metadata": {},
   "source": [
    "**Termômetro inicial com XGBoost**\n",
    "\n",
    "Parâmetros e inspiração tirados desse [kernel do Kaggle](https://www.kaggle.com/tunguz/xgboost-starter). Apenas aplicando XGBoost e com esses parâmetros é possível obter uma ```UAC de 0.95``` (sem mexer em nenhuma feature). Aqui já foi aplicada uma normalização e 3 features foram adicionadas."
   ]
  },
  {
   "cell_type": "code",
   "execution_count": 14,
   "metadata": {},
   "outputs": [
    {
     "name": "stdout",
     "output_type": "stream",
     "text": [
      "[15:56:57] Tree method is automatically selected to be 'approx' for faster speed. to use old behavior(exact greedy algorithm on single machine), set tree_method to 'exact'\n",
      "[0]\ttrain-auc:0.865236\tvalid-auc:0.852833\n",
      "[10]\ttrain-auc:0.933834\tvalid-auc:0.923207\n",
      "[20]\ttrain-auc:0.938781\tvalid-auc:0.92891\n",
      "[30]\ttrain-auc:0.943574\tvalid-auc:0.934022\n",
      "[40]\ttrain-auc:0.947389\tvalid-auc:0.937736\n",
      "[50]\ttrain-auc:0.94916\tvalid-auc:0.939594\n",
      "[60]\ttrain-auc:0.951789\tvalid-auc:0.942092\n",
      "[70]\ttrain-auc:0.953515\tvalid-auc:0.943397\n",
      "[80]\ttrain-auc:0.954901\tvalid-auc:0.944434\n",
      "[90]\ttrain-auc:0.955987\tvalid-auc:0.94521\n",
      "[100]\ttrain-auc:0.957053\tvalid-auc:0.946066\n",
      "[110]\ttrain-auc:0.958211\tvalid-auc:0.947272\n",
      "[120]\ttrain-auc:0.958891\tvalid-auc:0.947953\n",
      "[130]\ttrain-auc:0.959529\tvalid-auc:0.948367\n",
      "[140]\ttrain-auc:0.960252\tvalid-auc:0.948829\n",
      "[150]\ttrain-auc:0.960856\tvalid-auc:0.949238\n",
      "[160]\ttrain-auc:0.96133\tvalid-auc:0.949553\n",
      "[170]\ttrain-auc:0.961829\tvalid-auc:0.949839\n",
      "[180]\ttrain-auc:0.962301\tvalid-auc:0.949978\n",
      "[190]\ttrain-auc:0.962675\tvalid-auc:0.950289\n",
      "[200]\ttrain-auc:0.963227\tvalid-auc:0.95063\n",
      "[210]\ttrain-auc:0.963584\tvalid-auc:0.950811\n",
      "[220]\ttrain-auc:0.963918\tvalid-auc:0.95079\n",
      "[230]\ttrain-auc:0.964274\tvalid-auc:0.950843\n",
      "[240]\ttrain-auc:0.964741\tvalid-auc:0.951109\n",
      "[250]\ttrain-auc:0.965051\tvalid-auc:0.951196\n",
      "[260]\ttrain-auc:0.965433\tvalid-auc:0.951308\n",
      "[269]\ttrain-auc:0.965628\tvalid-auc:0.951385\n"
     ]
    }
   ],
   "source": [
    "params = {'eta': 0.1, \n",
    "          'max_depth': 4, \n",
    "          'subsample': 0.9, \n",
    "          'colsample_bytree': 0.7, \n",
    "          'colsample_bylevel':0.7,\n",
    "          'min_child_weight':100,\n",
    "          'alpha':4,\n",
    "          'objective': 'binary:logistic', \n",
    "          'eval_metric': 'auc', \n",
    "          'random_state': 99, \n",
    "          'scale_pos_weight': 557, # parametro para compensar desbalanceamento\n",
    "          'silent': True}\n",
    "\n",
    "watchlist = [(xgb.DMatrix(x1, y1), 'train'), (xgb.DMatrix(x2, y2), 'valid')]\n",
    "model = xgb.train(params, xgb.DMatrix(x1, y1), 270, watchlist, maximize=True, verbose_eval=10)"
   ]
  },
  {
   "cell_type": "markdown",
   "metadata": {},
   "source": [
    "Salvando o modelo treinado para possível recuperação:"
   ]
  },
  {
   "cell_type": "code",
   "execution_count": 15,
   "metadata": {},
   "outputs": [],
   "source": [
    "#model.save_model('mark_more_features_std.sav')"
   ]
  },
  {
   "cell_type": "markdown",
   "metadata": {},
   "source": [
    "**Testando alguns modelos**\n",
    "\n",
    "Começando do modelo mais simples e aumentando a complexidade para ver como o modelo se comporta.\n",
    "\n",
    "Na ordem:\n",
    "\n",
    "- Logistic regression\n",
    "- Decision tree\n",
    "- Random Forest\n",
    "- XGBoost (api do sklearn)"
   ]
  },
  {
   "cell_type": "code",
   "execution_count": 12,
   "metadata": {},
   "outputs": [],
   "source": [
    "\"\"\"\n",
    "Função p/ plotagem de gráfico da learning curve.\n",
    "\"\"\"\n",
    "\n",
    "def plot_learning_curve(x1_sizes, x1_scores, x2_scores, model=''):\n",
    "    \n",
    "    plt.plot(x1_sizes, np.mean(x1_scores, axis=1), color=\"red\",  label=\"Training score\")\n",
    "    plt.plot(x1_sizes, np.mean(x2_scores, axis=1), color=\"green\", label=\"Cross-validation score\")\n",
    "\n",
    "    plt.fill_between(x1_sizes, np.mean(x1_scores, axis=1) - np.std(x1_scores, axis=1), np.mean(x1_scores, axis=1) + np.std(x1_scores, axis=1), color=\"salmon\", alpha=0.3)\n",
    "    plt.fill_between(x1_sizes, np.mean(x2_scores, axis=1) - np.std(x2_scores, axis=1), np.mean(x2_scores, axis=1) + np.std(x2_scores, axis=1), color=\"lightgreen\", alpha=0.3)\n",
    "\n",
    "    plt.title(\"Learning Curve - {0}\".format(model))\n",
    "    plt.xlabel(\"Training Set Size\"), plt.ylabel(\"ROC AUC\"), plt.legend(loc=\"best\")\n",
    "    plt.tight_layout()\n",
    "\n",
    "    plt.show()"
   ]
  },
  {
   "cell_type": "code",
   "execution_count": 13,
   "metadata": {},
   "outputs": [],
   "source": [
    "\"\"\"\n",
    "Função que faz cv, coleta resultados, imprime e plota learning curve\n",
    "\"\"\"\n",
    "\n",
    "def model_cv(x1, y1, model, model_name='', n_jobs=-1, cv=4):\n",
    "    x1_sizes, x1_scores, x2_scores = learning_curve(model, \n",
    "                                                    x1, \n",
    "                                                    y1, \n",
    "                                                    train_sizes=np.linspace(0.01, 1.0, 20), \n",
    "                                                    scoring='roc_auc', \n",
    "                                                    cv=cv, \n",
    "                                                    n_jobs=n_jobs)\n",
    "    \n",
    "    for size, x1_cv, x2_cv in zip(x1_sizes, x1_scores, x2_scores):\n",
    "        print('[{0}] train-roc_auc: {1} valid-roc_auc: {2}'.format(size, x1_cv.mean(), x2_cv.mean()))\n",
    "        \n",
    "    plot_learning_curve(x1_sizes, x1_scores, x2_scores, model_name)"
   ]
  },
  {
   "cell_type": "code",
   "execution_count": 14,
   "metadata": {},
   "outputs": [],
   "source": [
    "\"\"\"\n",
    "Print da confusion matrix e da AUROC\n",
    "\"\"\"\n",
    "\n",
    "def print_cm_auc(model, x, y):\n",
    "    print('Confusion matrix:')\n",
    "    print(confusion_matrix(y, model.predict(x)))\n",
    "    print('\\nAUROC:')\n",
    "    print(roc_auc_score(y, model.predict_proba(x)[:,1]))"
   ]
  },
  {
   "cell_type": "markdown",
   "metadata": {},
   "source": [
    "**Logistic Regression**\n"
   ]
  },
  {
   "cell_type": "code",
   "execution_count": 12,
   "metadata": {},
   "outputs": [
    {
     "data": {
      "text/plain": [
       "Counter({0: 7186405, 1: 13595})"
      ]
     },
     "execution_count": 12,
     "metadata": {},
     "output_type": "execute_result"
    }
   ],
   "source": [
    "Counter(y1, )"
   ]
  },
  {
   "cell_type": "code",
   "execution_count": 13,
   "metadata": {},
   "outputs": [],
   "source": [
    "lr_model = LogisticRegression(class_weight='balanced')"
   ]
  },
  {
   "cell_type": "code",
   "execution_count": 14,
   "metadata": {},
   "outputs": [
    {
     "name": "stdout",
     "output_type": "stream",
     "text": [
      "[53999] train-roc_auc: 0.8222522103114396 valid-roc_auc: 0.8154564068535801\n",
      "[335368] train-roc_auc: 0.8044676878253364 valid-roc_auc: 0.8127556473051659\n",
      "[616736] train-roc_auc: 0.8064955719850826 valid-roc_auc: 0.812111383854828\n",
      "[898105] train-roc_auc: 0.8125604391280956 valid-roc_auc: 0.8122364587987599\n",
      "[1179473] train-roc_auc: 0.8087653220616136 valid-roc_auc: 0.8104883885421981\n",
      "[1460841] train-roc_auc: 0.8090810630988531 valid-roc_auc: 0.8112107150439904\n",
      "[1742210] train-roc_auc: 0.809897487018714 valid-roc_auc: 0.8112009335134949\n",
      "[2023578] train-roc_auc: 0.8096871288438449 valid-roc_auc: 0.8111281722622536\n",
      "[2304946] train-roc_auc: 0.8094932418592939 valid-roc_auc: 0.8109678841489205\n",
      "[2586315] train-roc_auc: 0.8105290614882863 valid-roc_auc: 0.8115255060773638\n",
      "[2867683] train-roc_auc: 0.810548040872419 valid-roc_auc: 0.8116620631006795\n",
      "[3149052] train-roc_auc: 0.8100815236015486 valid-roc_auc: 0.8114161129130787\n",
      "[3430420] train-roc_auc: 0.8112662092251932 valid-roc_auc: 0.8117246781124164\n",
      "[3711788] train-roc_auc: 0.8117046779060793 valid-roc_auc: 0.8118809098184923\n",
      "[3993157] train-roc_auc: 0.8112131923013138 valid-roc_auc: 0.8118428658168668\n",
      "[4274525] train-roc_auc: 0.8125213252980211 valid-roc_auc: 0.811904640961744\n",
      "[4555893] train-roc_auc: 0.8118190141900359 valid-roc_auc: 0.8116832661731093\n",
      "[4837262] train-roc_auc: 0.8121202940431524 valid-roc_auc: 0.8119533298191063\n",
      "[5118630] train-roc_auc: 0.8120876604041609 valid-roc_auc: 0.8119913004236138\n",
      "[5399999] train-roc_auc: 0.8123295183580798 valid-roc_auc: 0.8121082299977579\n"
     ]
    },
    {
     "data": {
      "image/png": "[encoded data removed]",
      "text/plain": [
       "<Figure size 432x288 with 1 Axes>"
      ]
     },
     "metadata": {},
     "output_type": "display_data"
    },
    {
     "name": "stdout",
     "output_type": "stream",
     "text": [
      "Wall time: 10min 13s\n"
     ]
    }
   ],
   "source": [
    "%%time\n",
    "model_cv(x1, y1, lr_model, 'Logistic Regression')"
   ]
  },
  {
   "cell_type": "code",
   "execution_count": 15,
   "metadata": {},
   "outputs": [
    {
     "data": {
      "text/plain": [
       "LogisticRegression(C=1.0, class_weight='balanced', dual=False,\n",
       "          fit_intercept=True, intercept_scaling=1, max_iter=100,\n",
       "          multi_class='ovr', n_jobs=1, penalty='l2', random_state=None,\n",
       "          solver='liblinear', tol=0.0001, verbose=0, warm_start=False)"
      ]
     },
     "execution_count": 15,
     "metadata": {},
     "output_type": "execute_result"
    }
   ],
   "source": [
    "lr_model.fit(x1, y1)"
   ]
  },
  {
   "cell_type": "code",
   "execution_count": 23,
   "metadata": {},
   "outputs": [
    {
     "name": "stdout",
     "output_type": "stream",
     "text": [
      "Confusion matrix:\n",
      "[[1555723  440700]\n",
      " [   1016    2561]]\n",
      "\n",
      "AUROC:\n",
      "0.8079160080319726\n"
     ]
    }
   ],
   "source": [
    "print_cm_auc(lr_model, x3, y3)"
   ]
  },
  {
   "cell_type": "markdown",
   "metadata": {},
   "source": [
    "Já pela learning curve é possível ver que o modelo não é o indicado. A curva de validação não aumentou conforme o tamanho dos dados, pelo contrário, ela começou alta e foi abaixando.\n",
    "\n",
    "Treinando o modelo e fazendo as previsões, é possível verificar que o score da AUROC ficou bem abaixo do obtido pelo XGBoost. Alterar os hyperparâmetros talvez não ajude porque esse é um algoritmo simples, então, pode ser que um modelo mais complexo ajude a melhorar esse score."
   ]
  },
  {
   "cell_type": "markdown",
   "metadata": {},
   "source": [
    "**Decision tree**\n",
    "\n",
    "Aumentando um pouco mais a complexidade do modelo"
   ]
  },
  {
   "cell_type": "code",
   "execution_count": 26,
   "metadata": {},
   "outputs": [],
   "source": [
    "dt_model = DecisionTreeClassifier(max_depth=4, \n",
    "                                  class_weight='balanced',\n",
    "                                  min_samples_split=100,\n",
    "                                  random_state=99)"
   ]
  },
  {
   "cell_type": "code",
   "execution_count": 27,
   "metadata": {},
   "outputs": [
    {
     "name": "stdout",
     "output_type": "stream",
     "text": [
      "[53999] train-roc_auc: 0.9476500826543799 valid-roc_auc: 0.8634136457126518\n",
      "[335368] train-roc_auc: 0.9296854990713642 valid-roc_auc: 0.9152115451356402\n",
      "[616736] train-roc_auc: 0.929195277357865 valid-roc_auc: 0.924403958759965\n",
      "[898105] train-roc_auc: 0.9288271788380961 valid-roc_auc: 0.9270025285169073\n",
      "[1179473] train-roc_auc: 0.9291213854269913 valid-roc_auc: 0.9286243351926068\n",
      "[1460841] train-roc_auc: 0.9238713468533166 valid-roc_auc: 0.9233940171181946\n",
      "[1742210] train-roc_auc: 0.9239030174361794 valid-roc_auc: 0.922968527871443\n",
      "[2023578] train-roc_auc: 0.9223484291097039 valid-roc_auc: 0.9215333991439741\n",
      "[2304946] train-roc_auc: 0.9219048675624014 valid-roc_auc: 0.9212651973027193\n",
      "[2586315] train-roc_auc: 0.923234172197836 valid-roc_auc: 0.9231183433554644\n",
      "[2867683] train-roc_auc: 0.9232802464224426 valid-roc_auc: 0.923409032719307\n",
      "[3149052] train-roc_auc: 0.9224934375335505 valid-roc_auc: 0.923021937766819\n",
      "[3430420] train-roc_auc: 0.9229301479170393 valid-roc_auc: 0.9232397919822507\n",
      "[3711788] train-roc_auc: 0.923357035457421 valid-roc_auc: 0.9230934262872741\n",
      "[3993157] train-roc_auc: 0.9231488422671231 valid-roc_auc: 0.9230593606963692\n",
      "[4274525] train-roc_auc: 0.9235940417192455 valid-roc_auc: 0.9232234220025123\n",
      "[4555893] train-roc_auc: 0.9233017004683297 valid-roc_auc: 0.9229501425681296\n",
      "[4837262] train-roc_auc: 0.9232644681261862 valid-roc_auc: 0.9232150331249641\n",
      "[5118630] train-roc_auc: 0.9235760644760187 valid-roc_auc: 0.9231142196410685\n",
      "[5399999] train-roc_auc: 0.9239365114653451 valid-roc_auc: 0.92313524558697\n"
     ]
    },
    {
     "data": {
      "image/png": "[encoded data removed]",
      "text/plain": [
       "<Figure size 432x288 with 1 Axes>"
      ]
     },
     "metadata": {},
     "output_type": "display_data"
    },
    {
     "name": "stdout",
     "output_type": "stream",
     "text": [
      "Wall time: 13min 6s\n"
     ]
    }
   ],
   "source": [
    "%%time\n",
    "\n",
    "model_cv(x1, y1, dt_model, 'Decision tree')"
   ]
  },
  {
   "cell_type": "code",
   "execution_count": 28,
   "metadata": {},
   "outputs": [
    {
     "data": {
      "text/plain": [
       "DecisionTreeClassifier(class_weight='balanced', criterion='gini', max_depth=4,\n",
       "            max_features=None, max_leaf_nodes=None,\n",
       "            min_impurity_decrease=0.0, min_impurity_split=None,\n",
       "            min_samples_leaf=1, min_samples_split=100,\n",
       "            min_weight_fraction_leaf=0.0, presort=False, random_state=99,\n",
       "            splitter='best')"
      ]
     },
     "execution_count": 28,
     "metadata": {},
     "output_type": "execute_result"
    }
   ],
   "source": [
    "dt_model.fit(x1, y1)"
   ]
  },
  {
   "cell_type": "code",
   "execution_count": 29,
   "metadata": {},
   "outputs": [
    {
     "name": "stdout",
     "output_type": "stream",
     "text": [
      "Confusion matrix:\n",
      "[[1836942  159481]\n",
      " [    843    2734]]\n",
      "\n",
      "AUROC:\n",
      "0.9116937496220516\n"
     ]
    }
   ],
   "source": [
    "print_cm_auc(dt_model, x3, y3)"
   ]
  },
  {
   "cell_type": "markdown",
   "metadata": {},
   "source": [
    "O modelo melhorou bastante e a quantidade de falsos positivos diminuiu também. A curva de validação sobe enquanto a de treino decai com a quantidade de dados. Essa é a curva padrão!\n",
    "\n",
    "Entretanto, ainda parece que esse modelo não é o ideal. A partir de 1,2mi de registros parece que o modelo não precisa mais de dados para aprender. A literatura diz que é preciso haver um pequeno gap entre as curvas. Dessa forma ele pode generalizar bem novos dados. O resultado da predição não foi ruim, pelo contrário, foi o esperado pela cross validation feita antes. Esse é um comportamento típico de underfitting. Para contornar isso, podemos 1) alterar o algoritmo ou 2) tunar os hyperparametros."
   ]
  },
  {
   "cell_type": "markdown",
   "metadata": {},
   "source": [
    "**Random forest**"
   ]
  },
  {
   "cell_type": "code",
   "execution_count": 36,
   "metadata": {},
   "outputs": [],
   "source": [
    "rf_model = RandomForestClassifier(n_estimators=10, \n",
    "                                  max_depth=4, \n",
    "                                  max_features=None, \n",
    "                                  min_samples_split=10, \n",
    "                                  class_weight='balanced', \n",
    "                                  random_state=99)"
   ]
  },
  {
   "cell_type": "code",
   "execution_count": 37,
   "metadata": {},
   "outputs": [
    {
     "name": "stdout",
     "output_type": "stream",
     "text": [
      "[47999] train-roc_auc: 0.9740281541358763 valid-roc_auc: 0.8942709110876926\n",
      "[298105] train-roc_auc: 0.9403258401073482 valid-roc_auc: 0.930618290049772\n",
      "[548210] train-roc_auc: 0.938244163594656 valid-roc_auc: 0.9358183795265935\n",
      "[798315] train-roc_auc: 0.9368624635423662 valid-roc_auc: 0.9347679304062\n",
      "[1048420] train-roc_auc: 0.934751030409856 valid-roc_auc: 0.9338455947886196\n",
      "[1298526] train-roc_auc: 0.933757698312425 valid-roc_auc: 0.9345956857633685\n",
      "[1548631] train-roc_auc: 0.9345806755095519 valid-roc_auc: 0.9347152633286021\n",
      "[1798736] train-roc_auc: 0.9323081279120681 valid-roc_auc: 0.9324577111304134\n",
      "[2048841] train-roc_auc: 0.9309241891267902 valid-roc_auc: 0.9308406536249674\n",
      "[2298946] train-roc_auc: 0.9329234964630366 valid-roc_auc: 0.93347069900374\n",
      "[2549052] train-roc_auc: 0.9334838182146051 valid-roc_auc: 0.9345567326635326\n",
      "[2799157] train-roc_auc: 0.9328129533143491 valid-roc_auc: 0.9330750878606954\n",
      "[3049262] train-roc_auc: 0.9354789342460959 valid-roc_auc: 0.9352460313762198\n",
      "[3299367] train-roc_auc: 0.9358970779383505 valid-roc_auc: 0.9360040753667068\n",
      "[3549472] train-roc_auc: 0.9331917124747688 valid-roc_auc: 0.9335723417156725\n",
      "[3799578] train-roc_auc: 0.9332431488636104 valid-roc_auc: 0.9336364064902712\n",
      "[4049683] train-roc_auc: 0.9340652778130497 valid-roc_auc: 0.9342748564737656\n",
      "[4299788] train-roc_auc: 0.9316718304720246 valid-roc_auc: 0.9317317065506181\n",
      "[4549893] train-roc_auc: 0.9307074340576743 valid-roc_auc: 0.9304304708132626\n",
      "[4799999] train-roc_auc: 0.9312159590828474 valid-roc_auc: 0.9305026024173023\n"
     ]
    },
    {
     "data": {
      "image/png": "[encoded data removed]",
      "text/plain": [
       "<Figure size 432x288 with 1 Axes>"
      ]
     },
     "metadata": {},
     "output_type": "display_data"
    }
   ],
   "source": [
    "model_cv(x1, y1, rf_model, 'Random forest', n_jobs=3, cv=3)"
   ]
  },
  {
   "cell_type": "code",
   "execution_count": 38,
   "metadata": {},
   "outputs": [
    {
     "data": {
      "text/plain": [
       "RandomForestClassifier(bootstrap=True, class_weight='balanced',\n",
       "            criterion='gini', max_depth=4, max_features=None,\n",
       "            max_leaf_nodes=None, min_impurity_decrease=0.0,\n",
       "            min_impurity_split=None, min_samples_leaf=1,\n",
       "            min_samples_split=10, min_weight_fraction_leaf=0.0,\n",
       "            n_estimators=10, n_jobs=1, oob_score=False, random_state=99,\n",
       "            verbose=0, warm_start=False)"
      ]
     },
     "execution_count": 38,
     "metadata": {},
     "output_type": "execute_result"
    }
   ],
   "source": [
    "rf_model.fit(x1, y1)"
   ]
  },
  {
   "cell_type": "code",
   "execution_count": 39,
   "metadata": {},
   "outputs": [
    {
     "name": "stdout",
     "output_type": "stream",
     "text": [
      "Confusion matrix:\n",
      "[[1836956  159467]\n",
      " [    843    2734]]\n",
      "\n",
      "AUROC:\n",
      "0.9171608159101414\n"
     ]
    }
   ],
   "source": [
    "print_cm_auc(rf_model, x3, y3)"
   ]
  },
  {
   "cell_type": "markdown",
   "metadata": {},
   "source": [
    "Da mesma forma que o a Decision tree, o Random forest também parece precisar de mais complexidade para melhorar. A desvantagem perante Decision tree é a velocidade do algoritmo que é muito mais lenta."
   ]
  },
  {
   "cell_type": "markdown",
   "metadata": {},
   "source": [
    "**XGBoost (com a API do sklearn)**"
   ]
  },
  {
   "cell_type": "code",
   "execution_count": 9,
   "metadata": {},
   "outputs": [],
   "source": [
    "xgb_model = xgb.XGBClassifier(eta= 0.1, \n",
    "                              max_depth= 4, \n",
    "                              subsample= 0.9, \n",
    "                              colsample_bytree= 0.7, \n",
    "                              colsample_bylevel=0.7,\n",
    "                              min_child_weight=100,\n",
    "                              alpha=4,\n",
    "                              objective= 'binary:logistic', \n",
    "                              eval_metric= 'auc', \n",
    "                              random_state= 99, \n",
    "                              scale_pos_weight= 557,\n",
    "                              silent= True,\n",
    "                              n_jobs=-1)"
   ]
  },
  {
   "cell_type": "code",
   "execution_count": 77,
   "metadata": {
    "scrolled": false
   },
   "outputs": [
    {
     "data": {
      "image/png": "[encoded data removed]",
      "text/plain": [
       "<Figure size 432x288 with 1 Axes>"
      ]
     },
     "metadata": {},
     "output_type": "display_data"
    }
   ],
   "source": [
    "model_cv(x1, y1, xgb_model, 'xgb')"
   ]
  },
  {
   "cell_type": "code",
   "execution_count": 10,
   "metadata": {},
   "outputs": [
    {
     "name": "stdout",
     "output_type": "stream",
     "text": [
      "[14:01:49] Tree method is automatically selected to be 'approx' for faster speed. to use old behavior(exact greedy algorithm on single machine), set tree_method to 'exact'\n"
     ]
    },
    {
     "data": {
      "text/plain": [
       "XGBClassifier(alpha=4, base_score=0.5, booster='gbtree',\n",
       "       colsample_bylevel=0.7, colsample_bytree=0.7, eta=0.1,\n",
       "       eval_metric='auc', gamma=0, learning_rate=0.1, max_delta_step=0,\n",
       "       max_depth=4, min_child_weight=100, missing=None, n_estimators=100,\n",
       "       n_jobs=-1, nthread=None, objective='binary:logistic',\n",
       "       random_state=99, reg_alpha=0, reg_lambda=1, scale_pos_weight=557,\n",
       "       seed=None, silent=True, subsample=0.9)"
      ]
     },
     "execution_count": 10,
     "metadata": {},
     "output_type": "execute_result"
    }
   ],
   "source": [
    "xgb_model.fit(x1, y1)"
   ]
  },
  {
   "cell_type": "code",
   "execution_count": 16,
   "metadata": {},
   "outputs": [
    {
     "name": "stdout",
     "output_type": "stream",
     "text": [
      "Confusion matrix:\n"
     ]
    },
    {
     "name": "stderr",
     "output_type": "stream",
     "text": [
      "C:\\Users\\Mark\\Anaconda3\\lib\\site-packages\\sklearn\\preprocessing\\label.py:151: DeprecationWarning: The truth value of an empty array is ambiguous. Returning False, but in future this will result in an error. Use `array.size > 0` to check that an array is not empty.\n",
      "  if diff:\n"
     ]
    },
    {
     "name": "stdout",
     "output_type": "stream",
     "text": [
      "[[1872587  123836]\n",
      " [    932    2645]]\n",
      "\n",
      "AUROC:\n",
      "0.929662042679631\n"
     ]
    }
   ],
   "source": [
    "print_cm_auc(xgb_model, x3, y3)"
   ]
  },
  {
   "cell_type": "markdown",
   "metadata": {},
   "source": [
    "Essa é a curva padrão de aprendizagem. Esse é modelo a ser explorado. Conseguimos isso fazendo 2 coisas: usando o XGoost e alterando os hyperparametros(pegos do fórum do Kaggle). Nota-se que há um gap pequeno entre as duas curvas e que o modelo aprende com os dados de forma contínua generalizando o modelo para dados novos.\n",
    "\n",
    "Falsos positivos também possuem um valor aceitável de pouco mais de 5%."
   ]
  },
  {
   "cell_type": "code",
   "execution_count": null,
   "metadata": {},
   "outputs": [],
   "source": []
  }
 ],
 "metadata": {
  "kernelspec": {
   "display_name": "Python 3",
   "language": "python",
   "name": "python3"
  },
  "language_info": {
   "codemirror_mode": {
    "name": "ipython",
    "version": 3
   },
   "file_extension": ".py",
   "mimetype": "text/x-python",
   "name": "python",
   "nbconvert_exporter": "python",
   "pygments_lexer": "ipython3",
   "version": "3.6.5"
  }
 },
 "nbformat": 4,
 "nbformat_minor": 2
}
